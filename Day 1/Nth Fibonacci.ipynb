{
 "cells": [
  {
   "cell_type": "markdown",
   "id": "cbb4ba81",
   "metadata": {},
   "source": [
    "**Problem Statement:**\\\n",
    "The Fibonacci sequence is defined as follows:\\the first number of the sequence is 0, the\n",
    "second number is 1 and the nth number is the sum of the (n - 1)th and (n - 2)th numbers. Write a\n",
    "function that takes in an integer n and returns the nth Fibonacci number.\\\n",
    "**Important note**: the Fibonacci sequence is often defined with its first two numbers as F0 = 0 and\n",
    "F1= 1. For the purpose of this question, the first Fibonacci number is F0; therefore, getNthFib(1) is\n",
    "equal to F0, getNthFib(2) is equal to F1, etc.."
   ]
  },
  {
   "cell_type": "code",
   "execution_count": 1,
   "id": "1385c37d",
   "metadata": {},
   "outputs": [],
   "source": [
    "#using reursion\n",
    "def getfib(num):\n",
    "    if num < 0 :\n",
    "        print(\"Invalid number!!\")\n",
    "    elif num == 0:\n",
    "        return 0\n",
    "    elif num == 1 or num == 2:\n",
    "        return 1\n",
    "    else:\n",
    "        return getfib(num-1) + getfib(num-2)"
   ]
  },
  {
   "cell_type": "code",
   "execution_count": 25,
   "id": "75c4f1bc",
   "metadata": {},
   "outputs": [],
   "source": [
    "#using loop\n",
    "def getfib2(num):\n",
    "    a,b = 0,1\n",
    "    if num < 0:\n",
    "        return \"Invalid Number!\"\n",
    "    elif num == 0 :\n",
    "        return a\n",
    "    elif num == 1 or num == 2 :\n",
    "        return b\n",
    "    else:\n",
    "        for i in range(num-1):\n",
    "            a,b = b,a+b\n",
    "        return b"
   ]
  },
  {
   "cell_type": "code",
   "execution_count": 28,
   "id": "cdc894c2",
   "metadata": {},
   "outputs": [
    {
     "name": "stdout",
     "output_type": "stream",
     "text": [
      "5.51 s ± 107 ms per loop (mean ± std. dev. of 7 runs, 1 loop each)\n"
     ]
    }
   ],
   "source": [
    "%timeit getfib(35)"
   ]
  },
  {
   "cell_type": "code",
   "execution_count": 29,
   "id": "2d0057fb",
   "metadata": {},
   "outputs": [
    {
     "name": "stdout",
     "output_type": "stream",
     "text": [
      "3.5 µs ± 259 ns per loop (mean ± std. dev. of 7 runs, 100000 loops each)\n"
     ]
    }
   ],
   "source": [
    "%timeit getfib2(35)"
   ]
  },
  {
   "cell_type": "markdown",
   "id": "3ef09be9",
   "metadata": {},
   "source": [
    "As we can see the first approach takes 5.51 seconds to deliver the output while the second approach takes 3.5 micro-seconds to do the same operation. "
   ]
  },
  {
   "cell_type": "code",
   "execution_count": null,
   "id": "7ee46df7",
   "metadata": {},
   "outputs": [],
   "source": []
  }
 ],
 "metadata": {
  "kernelspec": {
   "display_name": "Python 3",
   "language": "python",
   "name": "python3"
  },
  "language_info": {
   "codemirror_mode": {
    "name": "ipython",
    "version": 3
   },
   "file_extension": ".py",
   "mimetype": "text/x-python",
   "name": "python",
   "nbconvert_exporter": "python",
   "pygments_lexer": "ipython3",
   "version": "3.8.5"
  }
 },
 "nbformat": 4,
 "nbformat_minor": 5
}
